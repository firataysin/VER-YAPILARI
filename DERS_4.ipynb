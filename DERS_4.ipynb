{
  "nbformat": 4,
  "nbformat_minor": 0,
  "metadata": {
    "colab": {
      "provenance": []
    },
    "kernelspec": {
      "name": "python3",
      "display_name": "Python 3"
    },
    "language_info": {
      "name": "python"
    }
  },
  "cells": [
    {
      "cell_type": "code",
      "execution_count": 6,
      "metadata": {
        "colab": {
          "base_uri": "https://localhost:8080/"
        },
        "id": "aISu28ZYNu8O",
        "outputId": "625f8289-1db2-4d68-ab4d-d427683da2cd"
      },
      "outputs": [
        {
          "output_type": "stream",
          "name": "stdout",
          "text": [
            "0\n",
            "1\n",
            "2\n",
            "3\n",
            "4\n"
          ]
        }
      ],
      "source": [
        "# for Döngüsü Örneği: 0'dan 4'e kadar olan sayıların yazdırılma  işlemidir\n",
        "for i in range (5):\n",
        "  print(i)"
      ]
    },
    {
      "cell_type": "code",
      "source": [
        "# for döngüsü örneği: Alışveriş listesi oluşturma\n",
        "liste = [\"elma\",\"ekmek\",\"süt\",\"peynir\"]\n",
        "\n",
        "for alinacaklar in liste:\n",
        "  print(alinacaklar)\n",
        "\n"
      ],
      "metadata": {
        "colab": {
          "base_uri": "https://localhost:8080/"
        },
        "id": "HQIFB5A9OnZK",
        "outputId": "b68ce09b-04cb-4115-aded-5e52c13c4450"
      },
      "execution_count": 7,
      "outputs": [
        {
          "output_type": "stream",
          "name": "stdout",
          "text": [
            "elma\n",
            "ekmek\n",
            "süt\n",
            "peynir\n"
          ]
        }
      ]
    },
    {
      "cell_type": "code",
      "source": [
        "# for döngüsü örneği: Bir sınıftaki öğrencilerin notlarının ortalamasını hesaplama\n",
        "notlar= [85, 92, 78, 90, 88]\n",
        "\n",
        "toplam = 0\n",
        "for sayi in notlar:\n",
        "  toplam += sayi  # toplam = toplam + sayi\n",
        "  ortalama = toplam / len(notlar)\n",
        "  print(\"Birinci Print -> Not Ortalaması: \", ortalama)\n",
        "  print(f\"İkinci Print -> Not Ortalaması: {ortalama}\")"
      ],
      "metadata": {
        "colab": {
          "base_uri": "https://localhost:8080/"
        },
        "id": "0xsRckqOVEWr",
        "outputId": "048ddbcf-8462-4dd8-d216-722a2e0db39f"
      },
      "execution_count": 8,
      "outputs": [
        {
          "output_type": "stream",
          "name": "stdout",
          "text": [
            "Birinci Print -> Not Ortalaması:  17.0\n",
            "İkinci Print -> Not Ortalaması: 17.0\n",
            "Birinci Print -> Not Ortalaması:  35.4\n",
            "İkinci Print -> Not Ortalaması: 35.4\n",
            "Birinci Print -> Not Ortalaması:  51.0\n",
            "İkinci Print -> Not Ortalaması: 51.0\n",
            "Birinci Print -> Not Ortalaması:  69.0\n",
            "İkinci Print -> Not Ortalaması: 69.0\n",
            "Birinci Print -> Not Ortalaması:  86.6\n",
            "İkinci Print -> Not Ortalaması: 86.6\n"
          ]
        }
      ]
    }
  ]
}